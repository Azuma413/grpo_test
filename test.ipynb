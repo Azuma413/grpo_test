{
 "cells": [
  {
   "cell_type": "code",
   "execution_count": 1,
   "metadata": {},
   "outputs": [
    {
     "name": "stdout",
     "output_type": "stream",
     "text": [
      "id name YaneuraOu NNUE V8.30Git 64AVX2 TOURNAMENT\n",
      "id author by yaneurao\n"
     ]
    }
   ],
   "source": [
    "import subprocess\n",
    "import time\n",
    "import os\n",
    "\n",
    "# やねうら王の実行ファイルパス（ビルドした場所に合わせる）\n",
    "engine_path = \"/mnt/e/SourceCode/app/yaneuraou/YaneuraOu_NNUE_halfKP256-V830Git_AVX2.exe\"\n",
    "\n",
    "# やねうら王を起動\n",
    "engine = subprocess.Popen(\n",
    "    [engine_path],\n",
    "    stdin=subprocess.PIPE,\n",
    "    stdout=subprocess.PIPE,\n",
    "    text=True\n",
    ")\n",
    "\n",
    "def send_command(command):\n",
    "    engine.stdin.write(command + \"\\n\")\n",
    "    engine.stdin.flush()\n",
    "    return engine.stdout.readline().strip()\n",
    "# 初期化\n",
    "print(send_command(\"usi\"))  # \"usiok\" が返る\n",
    "print(send_command(\"isready\"))  # \"readyok\" が返る"
   ]
  },
  {
   "cell_type": "code",
   "execution_count": 1,
   "metadata": {},
   "outputs": [
    {
     "name": "stdout",
     "output_type": "stream",
     "text": [
      "1\n",
      "2\n",
      "E:\\SourceCode\\app\\yaneuraou\\eval\n",
      "a\n",
      "b\n",
      "Engine response: id name YaneuraOu NNUE V8.30Git 64AVX2 TOURNAMENT\n",
      "Engine response: id author by yaneurao\n",
      "Engine response: option name Threads type spin default 4 min 1 max 1024\n",
      "Engine response: option name USI_Hash type spin default 1024 min 1 max 33554432\n",
      "Engine response: option name USI_Ponder type check default false\n",
      "Engine response: option name Stochastic_Ponder type check default false\n",
      "Engine response: option name MultiPV type spin default 1 min 1 max 600\n",
      "Engine response: option name NetworkDelay type spin default 120 min 0 max 10000\n",
      "Engine response: option name NetworkDelay2 type spin default 1120 min 0 max 10000\n",
      "Engine response: option name MinimumThinkingTime type spin default 2000 min 1000 max 100000\n",
      "Engine response: option name SlowMover type spin default 100 min 1 max 1000\n",
      "Engine response: option name MaxMovesToDraw type spin default 0 min 0 max 100000\n",
      "Engine response: option name DepthLimit type spin default 0 min 0 max 2147483647\n",
      "Engine response: option name NodesLimit type spin default 0 min 0 max 9223372036854775807\n",
      "Engine response: option name EvalDir type string default eval\n",
      "Engine response: option name WriteDebugLog type string default\n",
      "Engine response: option name GenerateAllLegalMoves type check default false\n",
      "Engine response: option name EnteringKingRule type combo default CSARule27 var NoEnteringKing var CSARule24 var CSARule24H var CSARule27 var CSARule27H var TryRule\n",
      "Engine response: option name ThreadIdOffset type spin default 0 min 0 max 23\n",
      "Engine response: option name LargePageEnable type check default true\n",
      "Engine response: option name USI_OwnBook type check default true\n",
      "Engine response: option name NarrowBook type check default false\n",
      "Engine response: option name BookMoves type spin default 16 min 0 max 10000\n",
      "Engine response: option name BookIgnoreRate type spin default 0 min 0 max 100\n",
      "Engine response: option name BookFile type combo default standard_book.db var no_book var standard_book.db var yaneura_book1.db var yaneura_book2.db var yaneura_book3.db var yaneura_book4.db var user_book1.db var user_book2.db var user_book3.db var book.bin\n",
      "Engine response: option name BookDir type string default book\n",
      "Engine response: option name BookEvalDiff type spin default 30 min 0 max 99999\n",
      "Engine response: option name BookEvalBlackLimit type spin default 0 min -99999 max 99999\n",
      "Engine response: option name BookEvalWhiteLimit type spin default -140 min -99999 max 99999\n",
      "Engine response: option name BookDepthLimit type spin default 16 min 0 max 99999\n",
      "Engine response: option name BookOnTheFly type check default false\n",
      "Engine response: option name ConsiderBookMoveCount type check default false\n",
      "Engine response: option name BookPvMoves type spin default 8 min 1 max 246\n",
      "Engine response: option name IgnoreBookPly type check default false\n",
      "Engine response: option name FlippedBook type check default true\n",
      "Engine response: option name DrawValueBlack type spin default -2 min -30000 max 30000\n",
      "Engine response: option name DrawValueWhite type spin default -2 min -30000 max 30000\n",
      "Engine response: option name PvInterval type spin default 300 min 0 max 100000000\n",
      "Engine response: option name ResignValue type spin default 99999 min 0 max 99999\n",
      "Engine response: option name ConsiderationMode type check default true\n",
      "Engine response: option name OutputFailLHPV type check default true\n",
      "Engine response: option name FV_SCALE type spin default 16 min 1 max 128\n",
      "Engine response: usiok\n",
      "d\n",
      "e\n",
      "Engine response: info string Hash table allocation: Windows Large Pages used.\n",
      "Engine response: info string EvalDirectory = E:\\SourceCode\\app\\yaneuraou\\eval\n",
      "Engine response: info string loading eval file : E:\\SourceCode\\app\\yaneuraou\\eval/nn.bin\n",
      "Engine response: info string read book file : book/standard_book.db\n",
      "Engine response: info string Error! : can't read file : book/standard_book.db\n",
      "Engine response: info string USI_Hash : Start clearing with 4 threads , Hash size =  1024[MB]\n",
      "Engine response: info string USI_Hash : Finish clearing.\n",
      "Engine response: readyok\n",
      "g\n",
      "4\n",
      "5\n"
     ]
    },
    {
     "data": {
      "text/plain": [
       "True"
      ]
     },
     "execution_count": 1,
     "metadata": {},
     "output_type": "execute_result"
    }
   ],
   "source": [
    "from src.shogi import YaneuraOuEngine\n",
    "engine = YaneuraOuEngine()\n",
    "engine.start()"
   ]
  }
 ],
 "metadata": {
  "kernelspec": {
   "display_name": ".venv",
   "language": "python",
   "name": "python3"
  },
  "language_info": {
   "codemirror_mode": {
    "name": "ipython",
    "version": 3
   },
   "file_extension": ".py",
   "mimetype": "text/x-python",
   "name": "python",
   "nbconvert_exporter": "python",
   "pygments_lexer": "ipython3",
   "version": "3.12.7"
  }
 },
 "nbformat": 4,
 "nbformat_minor": 2
}
