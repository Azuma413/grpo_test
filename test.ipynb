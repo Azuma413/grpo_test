{
 "cells": [
  {
   "cell_type": "code",
   "execution_count": 4,
   "metadata": {},
   "outputs": [
    {
     "name": "stdout",
     "output_type": "stream",
     "text": [
      "Setting eval directory to: E:/SourceCode/app/yaneuraou\\eval\n",
      "Setting book directory to: E:/SourceCode/app/yaneuraou\\book\n"
     ]
    },
    {
     "data": {
      "text/plain": [
       "True"
      ]
     },
     "execution_count": 4,
     "metadata": {},
     "output_type": "execute_result"
    }
   ],
   "source": [
    "from src.shogi import YaneuraOuEngine\n",
    "engine = YaneuraOuEngine()\n",
    "engine.start()"
   ]
  },
  {
   "cell_type": "code",
   "execution_count": 3,
   "metadata": {},
   "outputs": [
    {
     "name": "stdout",
     "output_type": "stream",
     "text": [
      "Engine process not available\n",
      "Engine process not available\n"
     ]
    }
   ],
   "source": [
    "engine._send_command(\"position startpos moves 7g7f\")\n",
    "engine._send_command(\"position\")\n",
    "msg = engine.message_queue.wait_for_type('position', timeout=0.2)\n",
    "msg"
   ]
  },
  {
   "cell_type": "code",
   "execution_count": null,
   "metadata": {},
   "outputs": [],
   "source": [
    "from src.rewards import (\n",
    "    XMLCountReward,\n",
    "    StrictFormatReward,\n",
    "    SoftFormatReward,\n",
    "    EvaluationReward,\n",
    "    SoftShogiFormatReward,\n",
    "    StrictShogiFormatReward,\n",
    ")"
   ]
  }
 ],
 "metadata": {
  "kernelspec": {
   "display_name": ".venv",
   "language": "python",
   "name": "python3"
  },
  "language_info": {
   "codemirror_mode": {
    "name": "ipython",
    "version": 3
   },
   "file_extension": ".py",
   "mimetype": "text/x-python",
   "name": "python",
   "nbconvert_exporter": "python",
   "pygments_lexer": "ipython3",
   "version": "3.12.7"
  }
 },
 "nbformat": 4,
 "nbformat_minor": 2
}
