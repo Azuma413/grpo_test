{
 "cells": [
  {
   "cell_type": "code",
   "execution_count": 2,
   "metadata": {},
   "outputs": [
    {
     "name": "stdout",
     "output_type": "stream",
     "text": [
      "id name YaneuraOu NNUE V8.30Git 64AVX2 TOURNAMENT\n",
      "id author by yaneurao\n"
     ]
    }
   ],
   "source": [
    "import subprocess\n",
    "import time\n",
    "import os\n",
    "\n",
    "# やねうら王の実行ファイルパス（ビルドした場所に合わせる）\n",
    "engine_path = \"/mnt/e/SourceCode/app/yaneuraou/YaneuraOu_NNUE_halfKP256-V830Git_AVX2.exe\"\n",
    "\n",
    "# やねうら王を起動\n",
    "engine = subprocess.Popen(\n",
    "    [engine_path],\n",
    "    stdin=subprocess.PIPE,\n",
    "    stdout=subprocess.PIPE,\n",
    "    text=True\n",
    ")\n",
    "\n",
    "def send_command(command):\n",
    "    engine.stdin.write(command + \"\\n\")\n",
    "    engine.stdin.flush()\n",
    "    return engine.stdout.readline().strip()\n",
    "# 初期化\n",
    "print(send_command(\"usi\"))  # \"usiok\" が返る\n",
    "print(send_command(\"isready\"))  # \"readyok\" が返る"
   ]
  },
  {
   "cell_type": "code",
   "execution_count": 3,
   "metadata": {},
   "outputs": [
    {
     "ename": "KeyboardInterrupt",
     "evalue": "",
     "output_type": "error",
     "traceback": [
      "\u001b[0;31m---------------------------------------------------------------------------\u001b[0m",
      "\u001b[0;31mKeyboardInterrupt\u001b[0m                         Traceback (most recent call last)",
      "Cell \u001b[0;32mIn[3], line 12\u001b[0m\n\u001b[1;32m     10\u001b[0m \u001b[38;5;66;03m# 出力解析\u001b[39;00m\n\u001b[1;32m     11\u001b[0m \u001b[38;5;28;01mwhile\u001b[39;00m \u001b[38;5;28;01mTrue\u001b[39;00m:\n\u001b[0;32m---> 12\u001b[0m     line \u001b[38;5;241m=\u001b[39m \u001b[43mengine\u001b[49m\u001b[38;5;241;43m.\u001b[39;49m\u001b[43mstdout\u001b[49m\u001b[38;5;241;43m.\u001b[39;49m\u001b[43mreadline\u001b[49m\u001b[43m(\u001b[49m\u001b[43m)\u001b[49m\u001b[38;5;241m.\u001b[39mstrip()\n\u001b[1;32m     13\u001b[0m     \u001b[38;5;28;01mif\u001b[39;00m line\u001b[38;5;241m.\u001b[39mstartswith(\u001b[38;5;124m\"\u001b[39m\u001b[38;5;124minfo\u001b[39m\u001b[38;5;124m\"\u001b[39m):\n\u001b[1;32m     14\u001b[0m         parts \u001b[38;5;241m=\u001b[39m line\u001b[38;5;241m.\u001b[39msplit()\n",
      "File \u001b[0;32m<frozen codecs>:319\u001b[0m, in \u001b[0;36mdecode\u001b[0;34m(self, input, final)\u001b[0m\n",
      "\u001b[0;31mKeyboardInterrupt\u001b[0m: "
     ]
    }
   ],
   "source": [
    "send_command(\"usinewgame\")\n",
    "\n",
    "# 初期局面を設定\n",
    "send_command(\"position startpos\")\n",
    "\n",
    "# 推論と評価値を取得\n",
    "send_command(\"go btime 1000 wtime 1000\")  # 1秒思考\n",
    "time.sleep(1.5)\n",
    "\n",
    "# 出力解析\n",
    "while True:\n",
    "    line = engine.stdout.readline().strip()\n",
    "    if line.startswith(\"info\"):\n",
    "        parts = line.split()\n",
    "        if \"score\" in parts:\n",
    "            score_idx = parts.index(\"score\") + 2\n",
    "            score = int(parts[score_idx])\n",
    "            print(f\"評価値: {score}\")\n",
    "    elif line.startswith(\"bestmove\"):\n",
    "        best_move = line.split()[1]\n",
    "        print(f\"最善手: {best_move}\")\n",
    "        break\n",
    "\n",
    "# 終了\n",
    "send_command(\"quit\")\n",
    "engine.wait()"
   ]
  }
 ],
 "metadata": {
  "kernelspec": {
   "display_name": ".venv",
   "language": "python",
   "name": "python3"
  },
  "language_info": {
   "codemirror_mode": {
    "name": "ipython",
    "version": 3
   },
   "file_extension": ".py",
   "mimetype": "text/x-python",
   "name": "python",
   "nbconvert_exporter": "python",
   "pygments_lexer": "ipython3",
   "version": "3.12.7"
  }
 },
 "nbformat": 4,
 "nbformat_minor": 2
}
